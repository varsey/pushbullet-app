{
 "cells": [
  {
   "cell_type": "code",
   "execution_count": 74,
   "id": "30af2bf6",
   "metadata": {
    "ExecuteTime": {
     "end_time": "2021-09-16T07:37:28.675379Z",
     "start_time": "2021-09-16T07:37:28.673118Z"
    }
   },
   "outputs": [],
   "source": [
    "from pushbullet import Pushbullet\n",
    "from datetime import datetime\n",
    "import pandas as pd\n",
    "import requests\n",
    "import pickle\n",
    "import os\n",
    "\n",
    "KEY = os.environ['PUSHBULLET_API_KEY']\n",
    "URL = 'https://api.pushbullet.com/v2/pushes'\n",
    "HEAD = {'Access-Token': KEY}"
   ]
  },
  {
   "cell_type": "code",
   "execution_count": 75,
   "id": "e9c0aa18",
   "metadata": {
    "ExecuteTime": {
     "end_time": "2021-09-16T07:34:04.169214Z",
     "start_time": "2021-09-16T07:34:04.166587Z"
    }
   },
   "outputs": [],
   "source": [
    "def get_limits(url=URL, head=HEAD):\n",
    "    \n",
    "    response = requests.get(url, headers=head)\n",
    "    json_thing = response.json\n",
    "    header_stuff = response.headers\n",
    "\n",
    "    unix_time_left = int(header_stuff['X-Ratelimit-Reset'])\n",
    "    ratelimit_left = header_stuff['X-Ratelimit-Remaining']\n",
    "    ratelimit_limit = header_stuff['X-Ratelimit-Limit']\n",
    "\n",
    "    print( '', ratelimit_left, ' <- ', ratelimit_limit, '\\n',  datetime.fromtimestamp(unix_time_left), end='\\n\\n' )\n",
    "\n",
    "    return None"
   ]
  },
  {
   "cell_type": "code",
   "execution_count": 76,
   "id": "71d42587",
   "metadata": {
    "ExecuteTime": {
     "end_time": "2021-09-16T07:35:06.286562Z",
     "start_time": "2021-09-16T07:34:08.750808Z"
    }
   },
   "outputs": [
    {
     "name": "stdout",
     "output_type": "stream",
     "text": [
      " 0  <-  16384 \n",
      " 2021-10-28 09:32:46\n",
      "\n"
     ]
    },
    {
     "ename": "PushbulletError",
     "evalue": "Too Many Requests, you have been ratelimited",
     "output_type": "error",
     "traceback": [
      "\u001B[0;31m---------------------------------------------------------------------------\u001B[0m",
      "\u001B[0;31mPushbulletError\u001B[0m                           Traceback (most recent call last)",
      "\u001B[0;32m/tmp/ipykernel_11854/3879082557.py\u001B[0m in \u001B[0;36m<module>\u001B[0;34m\u001B[0m\n\u001B[1;32m      1\u001B[0m \u001B[0mget_limits\u001B[0m\u001B[0;34m(\u001B[0m\u001B[0mURL\u001B[0m\u001B[0;34m,\u001B[0m \u001B[0mHEAD\u001B[0m\u001B[0;34m)\u001B[0m\u001B[0;34m\u001B[0m\u001B[0;34m\u001B[0m\u001B[0m\n\u001B[1;32m      2\u001B[0m \u001B[0;34m\u001B[0m\u001B[0m\n\u001B[0;32m----> 3\u001B[0;31m \u001B[0mpb\u001B[0m \u001B[0;34m=\u001B[0m \u001B[0mPushbullet\u001B[0m\u001B[0;34m(\u001B[0m\u001B[0mstr\u001B[0m\u001B[0;34m(\u001B[0m\u001B[0mKEY\u001B[0m\u001B[0;34m)\u001B[0m\u001B[0;34m)\u001B[0m\u001B[0;34m\u001B[0m\u001B[0;34m\u001B[0m\u001B[0m\n\u001B[0m\u001B[1;32m      4\u001B[0m \u001B[0mpushes\u001B[0m \u001B[0;34m=\u001B[0m \u001B[0mpb\u001B[0m\u001B[0;34m.\u001B[0m\u001B[0mget_pushes\u001B[0m\u001B[0;34m(\u001B[0m\u001B[0mlimit\u001B[0m\u001B[0;34m=\u001B[0m\u001B[0;36m4000\u001B[0m\u001B[0;34m)\u001B[0m\u001B[0;34m\u001B[0m\u001B[0;34m\u001B[0m\u001B[0m\n\u001B[1;32m      5\u001B[0m \u001B[0;34m\u001B[0m\u001B[0m\n",
      "\u001B[0;32m~/PycharmProjects/pushbullet-app/env/lib/python3.9/site-packages/pushbullet/pushbullet.py\u001B[0m in \u001B[0;36m__init__\u001B[0;34m(self, api_key, encryption_password, proxy)\u001B[0m\n\u001B[1;32m     36\u001B[0m             \u001B[0mself\u001B[0m\u001B[0;34m.\u001B[0m\u001B[0m_session\u001B[0m\u001B[0;34m.\u001B[0m\u001B[0mproxies\u001B[0m\u001B[0;34m.\u001B[0m\u001B[0mupdate\u001B[0m\u001B[0;34m(\u001B[0m\u001B[0mproxy\u001B[0m\u001B[0;34m)\u001B[0m\u001B[0;34m\u001B[0m\u001B[0;34m\u001B[0m\u001B[0m\n\u001B[1;32m     37\u001B[0m \u001B[0;34m\u001B[0m\u001B[0m\n\u001B[0;32m---> 38\u001B[0;31m         \u001B[0mself\u001B[0m\u001B[0;34m.\u001B[0m\u001B[0mrefresh\u001B[0m\u001B[0;34m(\u001B[0m\u001B[0;34m)\u001B[0m\u001B[0;34m\u001B[0m\u001B[0;34m\u001B[0m\u001B[0m\n\u001B[0m\u001B[1;32m     39\u001B[0m \u001B[0;34m\u001B[0m\u001B[0m\n\u001B[1;32m     40\u001B[0m         \u001B[0mself\u001B[0m\u001B[0;34m.\u001B[0m\u001B[0m_encryption_key\u001B[0m \u001B[0;34m=\u001B[0m \u001B[0;32mNone\u001B[0m\u001B[0;34m\u001B[0m\u001B[0;34m\u001B[0m\u001B[0m\n",
      "\u001B[0;32m~/PycharmProjects/pushbullet-app/env/lib/python3.9/site-packages/pushbullet/pushbullet.py\u001B[0m in \u001B[0;36mrefresh\u001B[0;34m(self)\u001B[0m\n\u001B[1;32m    352\u001B[0m \u001B[0;34m\u001B[0m\u001B[0m\n\u001B[1;32m    353\u001B[0m     \u001B[0;32mdef\u001B[0m \u001B[0mrefresh\u001B[0m\u001B[0;34m(\u001B[0m\u001B[0mself\u001B[0m\u001B[0;34m)\u001B[0m\u001B[0;34m:\u001B[0m\u001B[0;34m\u001B[0m\u001B[0;34m\u001B[0m\u001B[0m\n\u001B[0;32m--> 354\u001B[0;31m         \u001B[0mself\u001B[0m\u001B[0;34m.\u001B[0m\u001B[0m_load_devices\u001B[0m\u001B[0;34m(\u001B[0m\u001B[0;34m)\u001B[0m\u001B[0;34m\u001B[0m\u001B[0;34m\u001B[0m\u001B[0m\n\u001B[0m\u001B[1;32m    355\u001B[0m         \u001B[0mself\u001B[0m\u001B[0;34m.\u001B[0m\u001B[0m_load_chats\u001B[0m\u001B[0;34m(\u001B[0m\u001B[0;34m)\u001B[0m\u001B[0;34m\u001B[0m\u001B[0;34m\u001B[0m\u001B[0m\n\u001B[1;32m    356\u001B[0m         \u001B[0mself\u001B[0m\u001B[0;34m.\u001B[0m\u001B[0m_load_user_info\u001B[0m\u001B[0;34m(\u001B[0m\u001B[0;34m)\u001B[0m\u001B[0;34m\u001B[0m\u001B[0;34m\u001B[0m\u001B[0m\n",
      "\u001B[0;32m~/PycharmProjects/pushbullet-app/env/lib/python3.9/site-packages/pushbullet/pushbullet.py\u001B[0m in \u001B[0;36m_load_devices\u001B[0;34m(self)\u001B[0m\n\u001B[1;32m     69\u001B[0m     \u001B[0;32mdef\u001B[0m \u001B[0m_load_devices\u001B[0m\u001B[0;34m(\u001B[0m\u001B[0mself\u001B[0m\u001B[0;34m)\u001B[0m\u001B[0;34m:\u001B[0m\u001B[0;34m\u001B[0m\u001B[0;34m\u001B[0m\u001B[0m\n\u001B[1;32m     70\u001B[0m         \u001B[0mself\u001B[0m\u001B[0;34m.\u001B[0m\u001B[0mdevices\u001B[0m \u001B[0;34m=\u001B[0m \u001B[0;34m[\u001B[0m\u001B[0;34m]\u001B[0m\u001B[0;34m\u001B[0m\u001B[0;34m\u001B[0m\u001B[0m\n\u001B[0;32m---> 71\u001B[0;31m         \u001B[0mresp_dict\u001B[0m \u001B[0;34m=\u001B[0m \u001B[0mself\u001B[0m\u001B[0;34m.\u001B[0m\u001B[0m_get_data\u001B[0m\u001B[0;34m(\u001B[0m\u001B[0mself\u001B[0m\u001B[0;34m.\u001B[0m\u001B[0mDEVICES_URL\u001B[0m\u001B[0;34m)\u001B[0m\u001B[0;34m\u001B[0m\u001B[0;34m\u001B[0m\u001B[0m\n\u001B[0m\u001B[1;32m     72\u001B[0m         \u001B[0mdevice_list\u001B[0m \u001B[0;34m=\u001B[0m \u001B[0mresp_dict\u001B[0m\u001B[0;34m.\u001B[0m\u001B[0mget\u001B[0m\u001B[0;34m(\u001B[0m\u001B[0;34m\"devices\"\u001B[0m\u001B[0;34m,\u001B[0m \u001B[0;34m[\u001B[0m\u001B[0;34m]\u001B[0m\u001B[0;34m)\u001B[0m\u001B[0;34m\u001B[0m\u001B[0;34m\u001B[0m\u001B[0m\n\u001B[1;32m     73\u001B[0m \u001B[0;34m\u001B[0m\u001B[0m\n",
      "\u001B[0;32m~/PycharmProjects/pushbullet-app/env/lib/python3.9/site-packages/pushbullet/pushbullet.py\u001B[0m in \u001B[0;36m_get_data\u001B[0;34m(self, url)\u001B[0m\n\u001B[1;32m     61\u001B[0m             \u001B[0;32mraise\u001B[0m \u001B[0mInvalidKeyError\u001B[0m\u001B[0;34m(\u001B[0m\u001B[0;34m)\u001B[0m\u001B[0;34m\u001B[0m\u001B[0;34m\u001B[0m\u001B[0m\n\u001B[1;32m     62\u001B[0m         \u001B[0;32melif\u001B[0m \u001B[0mresp\u001B[0m\u001B[0;34m.\u001B[0m\u001B[0mstatus_code\u001B[0m \u001B[0;34m==\u001B[0m \u001B[0;36m429\u001B[0m\u001B[0;34m:\u001B[0m\u001B[0;34m\u001B[0m\u001B[0;34m\u001B[0m\u001B[0m\n\u001B[0;32m---> 63\u001B[0;31m             \u001B[0;32mraise\u001B[0m \u001B[0mPushbulletError\u001B[0m\u001B[0;34m(\u001B[0m\u001B[0;34m\"Too Many Requests, you have been ratelimited\"\u001B[0m\u001B[0;34m)\u001B[0m\u001B[0;34m\u001B[0m\u001B[0;34m\u001B[0m\u001B[0m\n\u001B[0m\u001B[1;32m     64\u001B[0m         \u001B[0;32melif\u001B[0m \u001B[0mresp\u001B[0m\u001B[0;34m.\u001B[0m\u001B[0mstatus_code\u001B[0m \u001B[0;34m!=\u001B[0m \u001B[0mrequests\u001B[0m\u001B[0;34m.\u001B[0m\u001B[0mcodes\u001B[0m\u001B[0;34m.\u001B[0m\u001B[0mok\u001B[0m\u001B[0;34m:\u001B[0m\u001B[0;34m\u001B[0m\u001B[0;34m\u001B[0m\u001B[0m\n\u001B[1;32m     65\u001B[0m             \u001B[0;32mraise\u001B[0m \u001B[0mPushbulletError\u001B[0m\u001B[0;34m(\u001B[0m\u001B[0mresp\u001B[0m\u001B[0;34m.\u001B[0m\u001B[0mstatus_code\u001B[0m\u001B[0;34m)\u001B[0m\u001B[0;34m\u001B[0m\u001B[0;34m\u001B[0m\u001B[0m\n",
      "\u001B[0;31mPushbulletError\u001B[0m: Too Many Requests, you have been ratelimited"
     ]
    }
   ],
   "source": [
    "get_limits(URL, HEAD)\n",
    "\n",
    "pb = Pushbullet(str(KEY))\n",
    "pushes = pb.get_pushes(limit=1000)\n",
    "\n",
    "pushes_list = []\n",
    "for push in pushes:\n",
    "    #print(push, '\\n')\n",
    "    pushes_list.append(push)\n",
    "    #print(push['url'], '\\n')\n",
    "\n",
    "get_limits(URL, HEAD)"
   ]
  },
  {
   "cell_type": "code",
   "execution_count": 5,
   "id": "1c4f3669",
   "metadata": {
    "ExecuteTime": {
     "end_time": "2021-09-16T07:39:06.195077Z",
     "start_time": "2021-09-16T07:39:06.169580Z"
    }
   },
   "outputs": [
    {
     "name": "stdout",
     "output_type": "stream",
     "text": [
      "2017-07-24 14:48:36.439188\n"
     ]
    }
   ],
   "source": [
    "# data of the earliest push\n",
    "print( datetime.fromtimestamp(pd.DataFrame(pushes_list)['created'][pd.DataFrame(pushes_list).shape[0] - 1]) )"
   ]
  },
  {
   "cell_type": "code",
   "execution_count": 43,
   "id": "c22f6eb6",
   "metadata": {
    "ExecuteTime": {
     "end_time": "2021-09-16T07:35:49.797670Z",
     "start_time": "2021-09-16T07:35:49.775654Z"
    }
   },
   "outputs": [
    {
     "data": {
      "text/html": [
       "<div>\n",
       "<style scoped>\n",
       "    .dataframe tbody tr th:only-of-type {\n",
       "        vertical-align: middle;\n",
       "    }\n",
       "\n",
       "    .dataframe tbody tr th {\n",
       "        vertical-align: top;\n",
       "    }\n",
       "\n",
       "    .dataframe thead th {\n",
       "        text-align: right;\n",
       "    }\n",
       "</style>\n",
       "<table border=\"1\" class=\"dataframe\">\n",
       "  <thead>\n",
       "    <tr style=\"text-align: right;\">\n",
       "      <th></th>\n",
       "      <th>file_name</th>\n",
       "      <th>file_url</th>\n",
       "    </tr>\n",
       "  </thead>\n",
       "  <tbody>\n",
       "    <tr>\n",
       "      <th>11</th>\n",
       "      <td>ds_proper_screens.apk</td>\n",
       "      <td>https://dl3.pushbulletusercontent.com/ypBMlzDl...</td>\n",
       "    </tr>\n",
       "    <tr>\n",
       "      <th>14</th>\n",
       "      <td>ds_inject_fix</td>\n",
       "      <td>https://dl3.pushbulletusercontent.com/LxB9VFq0...</td>\n",
       "    </tr>\n",
       "    <tr>\n",
       "      <th>18</th>\n",
       "      <td>Shpigelhalter_D._Mifnauchpop._Iskusstvo_Statis...</td>\n",
       "      <td>https://dl3.pushbulletusercontent.com/iPspNnvY...</td>\n",
       "    </tr>\n",
       "    <tr>\n",
       "      <th>22</th>\n",
       "      <td>ds_collect.apk</td>\n",
       "      <td>https://dl3.pushbulletusercontent.com/QYU5Mhbq...</td>\n",
       "    </tr>\n",
       "    <tr>\n",
       "      <th>27</th>\n",
       "      <td>Image.jpg</td>\n",
       "      <td>https://dl3.pushbulletusercontent.com/RGlujX39...</td>\n",
       "    </tr>\n",
       "    <tr>\n",
       "      <th>...</th>\n",
       "      <td>...</td>\n",
       "      <td>...</td>\n",
       "    </tr>\n",
       "    <tr>\n",
       "      <th>3937</th>\n",
       "      <td>10.1080@00963402.2017.1315040.pdf</td>\n",
       "      <td>https://dl2.pushbulletusercontent.com/rSnBh1Z9...</td>\n",
       "    </tr>\n",
       "    <tr>\n",
       "      <th>3944</th>\n",
       "      <td>The political and military vulnerability of Am...</td>\n",
       "      <td>https://dl2.pushbulletusercontent.com/Y1Uc67Oo...</td>\n",
       "    </tr>\n",
       "    <tr>\n",
       "      <th>3945</th>\n",
       "      <td>The political and military vulnerability of Am...</td>\n",
       "      <td>https://dl2.pushbulletusercontent.com/65DViC90...</td>\n",
       "    </tr>\n",
       "    <tr>\n",
       "      <th>3950</th>\n",
       "      <td>10.1080@00963402.2017.1315040.pdf</td>\n",
       "      <td>https://dl2.pushbulletusercontent.com/xoIXnl7D...</td>\n",
       "    </tr>\n",
       "    <tr>\n",
       "      <th>3953</th>\n",
       "      <td>The political and military vulnerability of Am...</td>\n",
       "      <td>https://dl2.pushbulletusercontent.com/l30QBzVP...</td>\n",
       "    </tr>\n",
       "  </tbody>\n",
       "</table>\n",
       "<p>180 rows × 2 columns</p>\n",
       "</div>"
      ],
      "text/plain": [
       "                                              file_name  \\\n",
       "11                                ds_proper_screens.apk   \n",
       "14                                        ds_inject_fix   \n",
       "18    Shpigelhalter_D._Mifnauchpop._Iskusstvo_Statis...   \n",
       "22                                       ds_collect.apk   \n",
       "27                                            Image.jpg   \n",
       "...                                                 ...   \n",
       "3937                  10.1080@00963402.2017.1315040.pdf   \n",
       "3944  The political and military vulnerability of Am...   \n",
       "3945  The political and military vulnerability of Am...   \n",
       "3950                  10.1080@00963402.2017.1315040.pdf   \n",
       "3953  The political and military vulnerability of Am...   \n",
       "\n",
       "                                               file_url  \n",
       "11    https://dl3.pushbulletusercontent.com/ypBMlzDl...  \n",
       "14    https://dl3.pushbulletusercontent.com/LxB9VFq0...  \n",
       "18    https://dl3.pushbulletusercontent.com/iPspNnvY...  \n",
       "22    https://dl3.pushbulletusercontent.com/QYU5Mhbq...  \n",
       "27    https://dl3.pushbulletusercontent.com/RGlujX39...  \n",
       "...                                                 ...  \n",
       "3937  https://dl2.pushbulletusercontent.com/rSnBh1Z9...  \n",
       "3944  https://dl2.pushbulletusercontent.com/Y1Uc67Oo...  \n",
       "3945  https://dl2.pushbulletusercontent.com/65DViC90...  \n",
       "3950  https://dl2.pushbulletusercontent.com/xoIXnl7D...  \n",
       "3953  https://dl2.pushbulletusercontent.com/l30QBzVP...  \n",
       "\n",
       "[180 rows x 2 columns]"
      ]
     },
     "execution_count": 43,
     "metadata": {},
     "output_type": "execute_result"
    }
   ],
   "source": [
    "#all files in df\n",
    "pd.DataFrame(pushes_list)[['file_name', 'file_url']].dropna()"
   ]
  },
  {
   "cell_type": "code",
   "execution_count": 6,
   "id": "9e1d3e52",
   "metadata": {
    "ExecuteTime": {
     "end_time": "2021-09-16T07:37:33.623303Z",
     "start_time": "2021-09-16T07:37:33.592182Z"
    }
   },
   "outputs": [],
   "source": [
    "filepath = \"varsey_pushes_current.pkl\"\n",
    "data_file = open(filepath, \"wb\")\n",
    "pickle.dump(pd.DataFrame(pushes_list), data_file)\n",
    "data_file.close()"
   ]
  },
  {
   "cell_type": "code",
   "execution_count": 7,
   "id": "351c437e",
   "metadata": {
    "ExecuteTime": {
     "end_time": "2021-09-16T07:38:34.732037Z",
     "start_time": "2021-09-16T07:38:34.720445Z"
    }
   },
   "outputs": [],
   "source": [
    "data_file = open(filepath, \"rb\")\n",
    "df = pickle.load(data_file)\n",
    "data_file.close()"
   ]
  },
  {
   "cell_type": "code",
   "execution_count": 39,
   "outputs": [],
   "source": [
    "df['created'] = pd.to_datetime(df['created'], unit='s')\n",
    "df['modified'] = pd.to_datetime(df['modified'], unit='s')"
   ],
   "metadata": {
    "collapsed": false,
    "pycharm": {
     "name": "#%%\n"
    }
   }
  },
  {
   "cell_type": "code",
   "execution_count": 40,
   "outputs": [
    {
     "data": {
      "text/plain": "   active                    iden                       created  \\\n0    True  ujAP4xoQgWysjxkH98aWui 2021-10-26 09:30:35.075671040   \n1    True  ujAP4xoQgWysjwjrilYRI4 2021-10-27 11:39:08.183098880   \n2    True  ujAP4xoQgWysjEkC5kZc16 2021-10-27 09:19:14.302555904   \n3    True  ujAP4xoQgWysjAnRnhR9nU 2021-10-27 11:37:54.006129920   \n4    True  ujAP4xoQgWysjBF1bwPVBc 2021-10-26 09:30:45.075943936   \n\n                       modified  type  dismissed         guid direction  \\\n0 2021-10-27 21:03:23.683609088  note       True   9c4318sa5g      self   \n1 2021-10-27 21:03:23.683557120  link       True  ie46hieskkp      self   \n2 2021-10-27 21:03:23.682625024  link       True  xi2pmrem6re      self   \n3 2021-10-27 21:03:23.682313984  link       True   t6mqci3nt6      self   \n4 2021-10-27 21:03:23.682242048  note       True  91ckwkmict4      self   \n\n   sender_iden              sender_email  ...  \\\n0  ujAP4xoQgWy  eugeny.varseev@gmail.com  ...   \n1  ujAP4xoQgWy  eugeny.varseev@gmail.com  ...   \n2  ujAP4xoQgWy  eugeny.varseev@gmail.com  ...   \n3  ujAP4xoQgWy  eugeny.varseev@gmail.com  ...   \n4  ujAP4xoQgWy  eugeny.varseev@gmail.com  ...   \n\n                                                body  \\\n0  dpkg-query -Wf '${Installed-Size}\\t${Package}\\...   \n1                                                NaN   \n2                                                NaN   \n3                                                NaN   \n4                                               ncdu   \n\n                                               title  \\\n0                                                NaN   \n1  Why and How I'm writing a GA4 book called 'Lea...   \n2  4 области, в которых искусственный интеллект у...   \n3  Interpreting A/B test results: false negatives...   \n4                                                NaN   \n\n                                                 url file_name file_type  \\\n0                                                NaN       NaN       NaN   \n1  https://code.markedmondson.me/writing-a-book/?...       NaN       NaN   \n2  https://www.fabuza.ru/blog-post/4-oblasti-v-ko...       NaN       NaN   \n3  https://netflixtechblog.com/interpreting-a-b-t...       NaN       NaN   \n4                                                NaN       NaN       NaN   \n\n  file_url image_width image_height image_url target_device_iden  \n0      NaN         NaN          NaN       NaN                NaN  \n1      NaN         NaN          NaN       NaN                NaN  \n2      NaN         NaN          NaN       NaN                NaN  \n3      NaN         NaN          NaN       NaN                NaN  \n4      NaN         NaN          NaN       NaN                NaN  \n\n[5 rows x 27 columns]",
      "text/html": "<div>\n<style scoped>\n    .dataframe tbody tr th:only-of-type {\n        vertical-align: middle;\n    }\n\n    .dataframe tbody tr th {\n        vertical-align: top;\n    }\n\n    .dataframe thead th {\n        text-align: right;\n    }\n</style>\n<table border=\"1\" class=\"dataframe\">\n  <thead>\n    <tr style=\"text-align: right;\">\n      <th></th>\n      <th>active</th>\n      <th>iden</th>\n      <th>created</th>\n      <th>modified</th>\n      <th>type</th>\n      <th>dismissed</th>\n      <th>guid</th>\n      <th>direction</th>\n      <th>sender_iden</th>\n      <th>sender_email</th>\n      <th>...</th>\n      <th>body</th>\n      <th>title</th>\n      <th>url</th>\n      <th>file_name</th>\n      <th>file_type</th>\n      <th>file_url</th>\n      <th>image_width</th>\n      <th>image_height</th>\n      <th>image_url</th>\n      <th>target_device_iden</th>\n    </tr>\n  </thead>\n  <tbody>\n    <tr>\n      <th>0</th>\n      <td>True</td>\n      <td>ujAP4xoQgWysjxkH98aWui</td>\n      <td>2021-10-26 09:30:35.075671040</td>\n      <td>2021-10-27 21:03:23.683609088</td>\n      <td>note</td>\n      <td>True</td>\n      <td>9c4318sa5g</td>\n      <td>self</td>\n      <td>ujAP4xoQgWy</td>\n      <td>eugeny.varseev@gmail.com</td>\n      <td>...</td>\n      <td>dpkg-query -Wf '${Installed-Size}\\t${Package}\\...</td>\n      <td>NaN</td>\n      <td>NaN</td>\n      <td>NaN</td>\n      <td>NaN</td>\n      <td>NaN</td>\n      <td>NaN</td>\n      <td>NaN</td>\n      <td>NaN</td>\n      <td>NaN</td>\n    </tr>\n    <tr>\n      <th>1</th>\n      <td>True</td>\n      <td>ujAP4xoQgWysjwjrilYRI4</td>\n      <td>2021-10-27 11:39:08.183098880</td>\n      <td>2021-10-27 21:03:23.683557120</td>\n      <td>link</td>\n      <td>True</td>\n      <td>ie46hieskkp</td>\n      <td>self</td>\n      <td>ujAP4xoQgWy</td>\n      <td>eugeny.varseev@gmail.com</td>\n      <td>...</td>\n      <td>NaN</td>\n      <td>Why and How I'm writing a GA4 book called 'Lea...</td>\n      <td>https://code.markedmondson.me/writing-a-book/?...</td>\n      <td>NaN</td>\n      <td>NaN</td>\n      <td>NaN</td>\n      <td>NaN</td>\n      <td>NaN</td>\n      <td>NaN</td>\n      <td>NaN</td>\n    </tr>\n    <tr>\n      <th>2</th>\n      <td>True</td>\n      <td>ujAP4xoQgWysjEkC5kZc16</td>\n      <td>2021-10-27 09:19:14.302555904</td>\n      <td>2021-10-27 21:03:23.682625024</td>\n      <td>link</td>\n      <td>True</td>\n      <td>xi2pmrem6re</td>\n      <td>self</td>\n      <td>ujAP4xoQgWy</td>\n      <td>eugeny.varseev@gmail.com</td>\n      <td>...</td>\n      <td>NaN</td>\n      <td>4 области, в которых искусственный интеллект у...</td>\n      <td>https://www.fabuza.ru/blog-post/4-oblasti-v-ko...</td>\n      <td>NaN</td>\n      <td>NaN</td>\n      <td>NaN</td>\n      <td>NaN</td>\n      <td>NaN</td>\n      <td>NaN</td>\n      <td>NaN</td>\n    </tr>\n    <tr>\n      <th>3</th>\n      <td>True</td>\n      <td>ujAP4xoQgWysjAnRnhR9nU</td>\n      <td>2021-10-27 11:37:54.006129920</td>\n      <td>2021-10-27 21:03:23.682313984</td>\n      <td>link</td>\n      <td>True</td>\n      <td>t6mqci3nt6</td>\n      <td>self</td>\n      <td>ujAP4xoQgWy</td>\n      <td>eugeny.varseev@gmail.com</td>\n      <td>...</td>\n      <td>NaN</td>\n      <td>Interpreting A/B test results: false negatives...</td>\n      <td>https://netflixtechblog.com/interpreting-a-b-t...</td>\n      <td>NaN</td>\n      <td>NaN</td>\n      <td>NaN</td>\n      <td>NaN</td>\n      <td>NaN</td>\n      <td>NaN</td>\n      <td>NaN</td>\n    </tr>\n    <tr>\n      <th>4</th>\n      <td>True</td>\n      <td>ujAP4xoQgWysjBF1bwPVBc</td>\n      <td>2021-10-26 09:30:45.075943936</td>\n      <td>2021-10-27 21:03:23.682242048</td>\n      <td>note</td>\n      <td>True</td>\n      <td>91ckwkmict4</td>\n      <td>self</td>\n      <td>ujAP4xoQgWy</td>\n      <td>eugeny.varseev@gmail.com</td>\n      <td>...</td>\n      <td>ncdu</td>\n      <td>NaN</td>\n      <td>NaN</td>\n      <td>NaN</td>\n      <td>NaN</td>\n      <td>NaN</td>\n      <td>NaN</td>\n      <td>NaN</td>\n      <td>NaN</td>\n      <td>NaN</td>\n    </tr>\n  </tbody>\n</table>\n<p>5 rows × 27 columns</p>\n</div>"
     },
     "execution_count": 40,
     "metadata": {},
     "output_type": "execute_result"
    }
   ],
   "source": [
    "df.head()"
   ],
   "metadata": {
    "collapsed": false,
    "pycharm": {
     "name": "#%%\n"
    }
   }
  },
  {
   "cell_type": "code",
   "execution_count": 35,
   "outputs": [
    {
     "name": "stdout",
     "output_type": "stream",
     "text": [
      "[2102.12923] Machine Learning-Based Optimal Mesh Generation in Computational Fluid Dynamics\n",
      "Towards Automated Optimization of Web Interfaces and Application to E-commerce - fulltext.pdf\n",
      "Atomic Heat in Small Packages Give Big Industry a Climate Option - BNN Bloomberg\n",
      "Steven Pinker on the Past, Present, and Future of Optimism\n",
      "How to avoid soggy cookies: The optimal dunking time - The Utah Statesman\n",
      "How optimizing aerodynamics significantly increases EV range - Autoblog\n"
     ]
    }
   ],
   "source": [
    "for item in df['title'].to_list():\n",
    "    if 'opt' in str(item).lower():\n",
    "        print(item)"
   ],
   "metadata": {
    "collapsed": false,
    "pycharm": {
     "name": "#%%\n"
    }
   }
  },
  {
   "cell_type": "code",
   "execution_count": null,
   "outputs": [],
   "source": [],
   "metadata": {
    "collapsed": false,
    "pycharm": {
     "name": "#%%\n"
    }
   }
  },
  {
   "cell_type": "markdown",
   "source": [
    "## update pushes archive"
   ],
   "metadata": {
    "collapsed": false,
    "pycharm": {
     "name": "#%% md\n"
    }
   }
  },
  {
   "cell_type": "code",
   "execution_count": 68,
   "outputs": [],
   "source": [
    "data_file_old = open(\"varsey_pushes_archive.pkl\", \"rb\")\n",
    "df_old = pickle.load(data_file_old)\n",
    "data_file_old.close()"
   ],
   "metadata": {
    "collapsed": false,
    "pycharm": {
     "name": "#%%\n"
    }
   }
  },
  {
   "cell_type": "code",
   "execution_count": 69,
   "outputs": [],
   "source": [
    "df_old['created'] = pd.to_datetime(df_old['created'], unit='s')\n",
    "df_old['modified'] = pd.to_datetime(df_old['modified'], unit='s')"
   ],
   "metadata": {
    "collapsed": false,
    "pycharm": {
     "name": "#%%\n"
    }
   }
  },
  {
   "cell_type": "code",
   "execution_count": 70,
   "outputs": [
    {
     "data": {
      "text/plain": "((4173, 27), (4005, 27))"
     },
     "execution_count": 70,
     "metadata": {},
     "output_type": "execute_result"
    }
   ],
   "source": [
    "clm_list = list(df_old.columns)\n",
    "df_old.shape, df.shape"
   ],
   "metadata": {
    "collapsed": false,
    "pycharm": {
     "name": "#%%\n"
    }
   }
  },
  {
   "cell_type": "code",
   "execution_count": 71,
   "outputs": [
    {
     "data": {
      "text/plain": "(4497, 27)"
     },
     "execution_count": 71,
     "metadata": {},
     "output_type": "execute_result"
    }
   ],
   "source": [
    "df_archive = pd.concat(\n",
    "    [df_old,\n",
    "     df_old[~df_old.created.isin(df.created.to_list())],]\n",
    ")\n",
    "df_archive.shape"
   ],
   "metadata": {
    "collapsed": false,
    "pycharm": {
     "name": "#%%\n"
    }
   }
  },
  {
   "cell_type": "code",
   "execution_count": 72,
   "outputs": [],
   "source": [
    "filepath = \"varsey_pushes_archive.pkl\"\n",
    "data_file = open(filepath, \"wb\")\n",
    "pickle.dump(df_archive, data_file)\n",
    "data_file.close()"
   ],
   "metadata": {
    "collapsed": false,
    "pycharm": {
     "name": "#%%\n"
    }
   }
  },
  {
   "cell_type": "code",
   "execution_count": 73,
   "outputs": [
    {
     "ename": "UnsupportedOperation",
     "evalue": "read",
     "output_type": "error",
     "traceback": [
      "\u001B[0;31m---------------------------------------------------------------------------\u001B[0m",
      "\u001B[0;31mUnsupportedOperation\u001B[0m                      Traceback (most recent call last)",
      "\u001B[0;32m/tmp/ipykernel_11854/2766728394.py\u001B[0m in \u001B[0;36m<module>\u001B[0;34m\u001B[0m\n\u001B[1;32m      1\u001B[0m \u001B[0mfilepath\u001B[0m \u001B[0;34m=\u001B[0m \u001B[0;34m\"varsey_pushes_archive.pkl\"\u001B[0m\u001B[0;34m\u001B[0m\u001B[0;34m\u001B[0m\u001B[0m\n\u001B[1;32m      2\u001B[0m \u001B[0mdata_file\u001B[0m \u001B[0;34m=\u001B[0m \u001B[0mopen\u001B[0m\u001B[0;34m(\u001B[0m\u001B[0mfilepath\u001B[0m\u001B[0;34m,\u001B[0m \u001B[0;34m\"wb\"\u001B[0m\u001B[0;34m)\u001B[0m\u001B[0;34m\u001B[0m\u001B[0;34m\u001B[0m\u001B[0m\n\u001B[0;32m----> 3\u001B[0;31m \u001B[0mdf_arch\u001B[0m \u001B[0;34m=\u001B[0m \u001B[0mpickle\u001B[0m\u001B[0;34m.\u001B[0m\u001B[0mload\u001B[0m\u001B[0;34m(\u001B[0m\u001B[0mdata_file\u001B[0m\u001B[0;34m)\u001B[0m\u001B[0;34m\u001B[0m\u001B[0;34m\u001B[0m\u001B[0m\n\u001B[0m\u001B[1;32m      4\u001B[0m \u001B[0mdata_file\u001B[0m\u001B[0;34m.\u001B[0m\u001B[0mclose\u001B[0m\u001B[0;34m(\u001B[0m\u001B[0;34m)\u001B[0m\u001B[0;34m\u001B[0m\u001B[0;34m\u001B[0m\u001B[0m\n",
      "\u001B[0;31mUnsupportedOperation\u001B[0m: read"
     ]
    }
   ],
   "source": [
    "filepath = \"varsey_pushes_archive.pkl\"\n",
    "data_file = open(filepath, \"rb\")\n",
    "df_arch = pickle.load(data_file)\n",
    "data_file.close()"
   ],
   "metadata": {
    "collapsed": false,
    "pycharm": {
     "name": "#%%\n"
    }
   }
  },
  {
   "cell_type": "code",
   "execution_count": null,
   "outputs": [],
   "source": [
    "#TODO - сделать функцию \"открыть пикл файл\" черещ with"
   ],
   "metadata": {
    "collapsed": false,
    "pycharm": {
     "name": "#%%\n"
    }
   }
  }
 ],
 "metadata": {
  "kernelspec": {
   "display_name": "Python 3",
   "language": "python",
   "name": "python3"
  },
  "language_info": {
   "codemirror_mode": {
    "name": "ipython",
    "version": 3
   },
   "file_extension": ".py",
   "mimetype": "text/x-python",
   "name": "python",
   "nbconvert_exporter": "python",
   "pygments_lexer": "ipython3",
   "version": "3.8.10"
  },
  "toc": {
   "base_numbering": 1,
   "nav_menu": {},
   "number_sections": true,
   "sideBar": true,
   "skip_h1_title": false,
   "title_cell": "Table of Contents",
   "title_sidebar": "Contents",
   "toc_cell": false,
   "toc_position": {},
   "toc_section_display": true,
   "toc_window_display": false
  }
 },
 "nbformat": 4,
 "nbformat_minor": 5
}