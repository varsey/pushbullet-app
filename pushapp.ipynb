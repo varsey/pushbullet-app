{
 "cells": [
  {
   "cell_type": "code",
   "execution_count": 48,
   "id": "30af2bf6",
   "metadata": {
    "ExecuteTime": {
     "end_time": "2021-09-16T07:37:28.675379Z",
     "start_time": "2021-09-16T07:37:28.673118Z"
    }
   },
   "outputs": [],
   "source": [
    "from pushbullet import Pushbullet\n",
    "from datetime import datetime\n",
    "import pandas as pd\n",
    "import requests\n",
    "import pickle\n",
    "import os\n",
    "\n",
    "KEY = os.environ['PUSHBULLET_API_KEY']\n",
    "URL = 'https://api.pushbullet.com/v2/pushes'\n",
    "HEAD = {'Access-Token': KEY}"
   ]
  },
  {
   "cell_type": "code",
   "execution_count": 49,
   "id": "e9c0aa18",
   "metadata": {
    "ExecuteTime": {
     "end_time": "2021-09-16T07:34:04.169214Z",
     "start_time": "2021-09-16T07:34:04.166587Z"
    }
   },
   "outputs": [],
   "source": [
    "def get_limits(url=URL, head=HEAD):\n",
    "    \n",
    "    response = requests.get(url, headers=head)\n",
    "    json_thing = response.json\n",
    "    header_stuff = response.headers\n",
    "\n",
    "    unix_time_left = int(header_stuff['X-Ratelimit-Reset'])\n",
    "    ratelimit_left = header_stuff['X-Ratelimit-Remaining']\n",
    "    ratelimit_limit = header_stuff['X-Ratelimit-Limit']\n",
    "\n",
    "    print( '', ratelimit_left, ' <- ', ratelimit_limit, '\\n',  datetime.fromtimestamp(unix_time_left), end='\\n\\n' )\n",
    "\n",
    "    return None"
   ]
  },
  {
   "cell_type": "code",
   "execution_count": 50,
   "id": "71d42587",
   "metadata": {
    "ExecuteTime": {
     "end_time": "2021-09-16T07:35:06.286562Z",
     "start_time": "2021-09-16T07:34:08.750808Z"
    }
   },
   "outputs": [
    {
     "name": "stdout",
     "output_type": "stream",
     "text": [
      " 7902  <-  16384 \n",
      " 2021-12-01 15:32:46\n",
      "\n",
      " 3738  <-  16384 \n",
      " 2021-12-01 15:32:46\n",
      "\n"
     ]
    }
   ],
   "source": [
    "get_limits(URL, HEAD)\n",
    "\n",
    "pb = Pushbullet(str(KEY))\n",
    "pushes = pb.get_pushes(limit=1000)\n",
    "\n",
    "pushes_list = []\n",
    "for push in pushes:\n",
    "    #print(push, '\\n')\n",
    "    pushes_list.append(push)\n",
    "    #print(push['url'], '\\n')\n",
    "\n",
    "get_limits(URL, HEAD)"
   ]
  },
  {
   "cell_type": "code",
   "execution_count": 51,
   "outputs": [
    {
     "data": {
      "text/plain": "      active                    iden       created      modified  type  \\\n0       True  ujAP4xoQgWysjDBwXSDwPc  1.638343e+09  1.638359e+09  link   \n1       True  ujAP4xoQgWysjAvKbkGfK0  1.638358e+09  1.638359e+09  note   \n2       True  ujAP4xoQgWysjB6FxztV3A  1.638348e+09  1.638359e+09  file   \n3       True  ujAP4xoQgWysjANmVw6MH6  1.638279e+09  1.638279e+09  link   \n4       True  ujAP4xoQgWysjz6BRsVYUm  1.638275e+09  1.638275e+09  link   \n...      ...                     ...           ...           ...   ...   \n1003    True  ujAP4xoQgWysjxrgHj103w  1.609140e+09  1.609154e+09  link   \n1004    True  ujAP4xoQgWysjDtZvcwAA8  1.609140e+09  1.609154e+09  link   \n1005    True  ujAP4xoQgWysjD1Vkx0XEO  1.609140e+09  1.609154e+09  link   \n1006    True  ujAP4xoQgWysjBi66eOgJU  1.609139e+09  1.609154e+09  link   \n1007    True  ujAP4xoQgWysjAtrb3cCgC  1.609138e+09  1.609154e+09  link   \n\n      dismissed         guid direction  sender_iden              sender_email  \\\n0          True  xsf2dagdhjl      self  ujAP4xoQgWy  eugeny.varseev@gmail.com   \n1          True  tfz5c02399o      self  ujAP4xoQgWy  eugeny.varseev@gmail.com   \n2          True  8tchny24rfu      self  ujAP4xoQgWy  eugeny.varseev@gmail.com   \n3          True  xqc6gh5rp7f      self  ujAP4xoQgWy  eugeny.varseev@gmail.com   \n4          True  6rzk6xp3go2      self  ujAP4xoQgWy  eugeny.varseev@gmail.com   \n...         ...          ...       ...          ...                       ...   \n1003       True  k9ae5pztsyb      self  ujAP4xoQgWy  eugeny.varseev@gmail.com   \n1004       True  52gvzos9eu8      self  ujAP4xoQgWy  eugeny.varseev@gmail.com   \n1005       True  27pn7mmwvyp      self  ujAP4xoQgWy  eugeny.varseev@gmail.com   \n1006       True  jxnxwjvc1ts      self  ujAP4xoQgWy  eugeny.varseev@gmail.com   \n1007       True  0ts9n4o2fuy      self  ujAP4xoQgWy  eugeny.varseev@gmail.com   \n\n      ...                                              title  \\\n0     ...  101 Ways to Use Third-Party Data eBook FINAL 1...   \n1     ...                                                NaN   \n2     ...                                                NaN   \n3     ...                                                NaN   \n4     ...                                          hi-Flyers   \n...   ...                                                ...   \n1003  ...                        И думать заставляют о войне   \n1004  ...          Заметки из путешествия по России | Артгид   \n1005  ...  \"Уже не соединить то, что было разрушено\". Как...   \n1006  ...  В Москве умер один из самых известных западных...   \n1007  ...         5 good books for a lousy year | Bill Gates   \n\n                                                    url              body  \\\n0     https://pages.awscloud.com/rs/112-TZM-766/imag...               NaN   \n1                                                   NaN  G5tPm2Lucpnr7zJ3   \n2                                                   NaN               NaN   \n3     https://beta-test.fabuza.ru/5b82af6c-8921-4217...               NaN   \n4     https://game.hi.com/hi-flyers/v1.2.1/?code=Ffi...               NaN   \n...                                                 ...               ...   \n1003  https://nplus1.ru/material/2020/12/25/nuclear-...               NaN   \n1004                    https://artguide.com/posts/2144               NaN   \n1005            https://www.sibreal.org/a/30995251.html               NaN   \n1006  https://meduza.io/feature/2020/12/26/v-moskve-...               NaN   \n1007  https://www.gatesnotes.com/About-Bill-Gates/Ho...               NaN   \n\n                    file_name         file_type  \\\n0                         NaN               NaN   \n1                         NaN               NaN   \n2     register-connector.json  application/json   \n3                         NaN               NaN   \n4                         NaN               NaN   \n...                       ...               ...   \n1003                      NaN               NaN   \n1004                      NaN               NaN   \n1005                      NaN               NaN   \n1006                      NaN               NaN   \n1007                      NaN               NaN   \n\n                                               file_url image_width  \\\n0                                                   NaN         NaN   \n1                                                   NaN         NaN   \n2     https://dl3.pushbulletusercontent.com/W8XjJn7M...         NaN   \n3                                                   NaN         NaN   \n4                                                   NaN         NaN   \n...                                                 ...         ...   \n1003                                                NaN         NaN   \n1004                                                NaN         NaN   \n1005                                                NaN         NaN   \n1006                                                NaN         NaN   \n1007                                                NaN         NaN   \n\n     image_height image_url target_device_iden  \n0             NaN       NaN                NaN  \n1             NaN       NaN                NaN  \n2             NaN       NaN                NaN  \n3             NaN       NaN                NaN  \n4             NaN       NaN                NaN  \n...           ...       ...                ...  \n1003          NaN       NaN                NaN  \n1004          NaN       NaN                NaN  \n1005          NaN       NaN                NaN  \n1006          NaN       NaN                NaN  \n1007          NaN       NaN                NaN  \n\n[1008 rows x 27 columns]",
      "text/html": "<div>\n<style scoped>\n    .dataframe tbody tr th:only-of-type {\n        vertical-align: middle;\n    }\n\n    .dataframe tbody tr th {\n        vertical-align: top;\n    }\n\n    .dataframe thead th {\n        text-align: right;\n    }\n</style>\n<table border=\"1\" class=\"dataframe\">\n  <thead>\n    <tr style=\"text-align: right;\">\n      <th></th>\n      <th>active</th>\n      <th>iden</th>\n      <th>created</th>\n      <th>modified</th>\n      <th>type</th>\n      <th>dismissed</th>\n      <th>guid</th>\n      <th>direction</th>\n      <th>sender_iden</th>\n      <th>sender_email</th>\n      <th>...</th>\n      <th>title</th>\n      <th>url</th>\n      <th>body</th>\n      <th>file_name</th>\n      <th>file_type</th>\n      <th>file_url</th>\n      <th>image_width</th>\n      <th>image_height</th>\n      <th>image_url</th>\n      <th>target_device_iden</th>\n    </tr>\n  </thead>\n  <tbody>\n    <tr>\n      <th>0</th>\n      <td>True</td>\n      <td>ujAP4xoQgWysjDBwXSDwPc</td>\n      <td>1.638343e+09</td>\n      <td>1.638359e+09</td>\n      <td>link</td>\n      <td>True</td>\n      <td>xsf2dagdhjl</td>\n      <td>self</td>\n      <td>ujAP4xoQgWy</td>\n      <td>eugeny.varseev@gmail.com</td>\n      <td>...</td>\n      <td>101 Ways to Use Third-Party Data eBook FINAL 1...</td>\n      <td>https://pages.awscloud.com/rs/112-TZM-766/imag...</td>\n      <td>NaN</td>\n      <td>NaN</td>\n      <td>NaN</td>\n      <td>NaN</td>\n      <td>NaN</td>\n      <td>NaN</td>\n      <td>NaN</td>\n      <td>NaN</td>\n    </tr>\n    <tr>\n      <th>1</th>\n      <td>True</td>\n      <td>ujAP4xoQgWysjAvKbkGfK0</td>\n      <td>1.638358e+09</td>\n      <td>1.638359e+09</td>\n      <td>note</td>\n      <td>True</td>\n      <td>tfz5c02399o</td>\n      <td>self</td>\n      <td>ujAP4xoQgWy</td>\n      <td>eugeny.varseev@gmail.com</td>\n      <td>...</td>\n      <td>NaN</td>\n      <td>NaN</td>\n      <td>G5tPm2Lucpnr7zJ3</td>\n      <td>NaN</td>\n      <td>NaN</td>\n      <td>NaN</td>\n      <td>NaN</td>\n      <td>NaN</td>\n      <td>NaN</td>\n      <td>NaN</td>\n    </tr>\n    <tr>\n      <th>2</th>\n      <td>True</td>\n      <td>ujAP4xoQgWysjB6FxztV3A</td>\n      <td>1.638348e+09</td>\n      <td>1.638359e+09</td>\n      <td>file</td>\n      <td>True</td>\n      <td>8tchny24rfu</td>\n      <td>self</td>\n      <td>ujAP4xoQgWy</td>\n      <td>eugeny.varseev@gmail.com</td>\n      <td>...</td>\n      <td>NaN</td>\n      <td>NaN</td>\n      <td>NaN</td>\n      <td>register-connector.json</td>\n      <td>application/json</td>\n      <td>https://dl3.pushbulletusercontent.com/W8XjJn7M...</td>\n      <td>NaN</td>\n      <td>NaN</td>\n      <td>NaN</td>\n      <td>NaN</td>\n    </tr>\n    <tr>\n      <th>3</th>\n      <td>True</td>\n      <td>ujAP4xoQgWysjANmVw6MH6</td>\n      <td>1.638279e+09</td>\n      <td>1.638279e+09</td>\n      <td>link</td>\n      <td>True</td>\n      <td>xqc6gh5rp7f</td>\n      <td>self</td>\n      <td>ujAP4xoQgWy</td>\n      <td>eugeny.varseev@gmail.com</td>\n      <td>...</td>\n      <td>NaN</td>\n      <td>https://beta-test.fabuza.ru/5b82af6c-8921-4217...</td>\n      <td>NaN</td>\n      <td>NaN</td>\n      <td>NaN</td>\n      <td>NaN</td>\n      <td>NaN</td>\n      <td>NaN</td>\n      <td>NaN</td>\n      <td>NaN</td>\n    </tr>\n    <tr>\n      <th>4</th>\n      <td>True</td>\n      <td>ujAP4xoQgWysjz6BRsVYUm</td>\n      <td>1.638275e+09</td>\n      <td>1.638275e+09</td>\n      <td>link</td>\n      <td>True</td>\n      <td>6rzk6xp3go2</td>\n      <td>self</td>\n      <td>ujAP4xoQgWy</td>\n      <td>eugeny.varseev@gmail.com</td>\n      <td>...</td>\n      <td>hi-Flyers</td>\n      <td>https://game.hi.com/hi-flyers/v1.2.1/?code=Ffi...</td>\n      <td>NaN</td>\n      <td>NaN</td>\n      <td>NaN</td>\n      <td>NaN</td>\n      <td>NaN</td>\n      <td>NaN</td>\n      <td>NaN</td>\n      <td>NaN</td>\n    </tr>\n    <tr>\n      <th>...</th>\n      <td>...</td>\n      <td>...</td>\n      <td>...</td>\n      <td>...</td>\n      <td>...</td>\n      <td>...</td>\n      <td>...</td>\n      <td>...</td>\n      <td>...</td>\n      <td>...</td>\n      <td>...</td>\n      <td>...</td>\n      <td>...</td>\n      <td>...</td>\n      <td>...</td>\n      <td>...</td>\n      <td>...</td>\n      <td>...</td>\n      <td>...</td>\n      <td>...</td>\n      <td>...</td>\n    </tr>\n    <tr>\n      <th>1003</th>\n      <td>True</td>\n      <td>ujAP4xoQgWysjxrgHj103w</td>\n      <td>1.609140e+09</td>\n      <td>1.609154e+09</td>\n      <td>link</td>\n      <td>True</td>\n      <td>k9ae5pztsyb</td>\n      <td>self</td>\n      <td>ujAP4xoQgWy</td>\n      <td>eugeny.varseev@gmail.com</td>\n      <td>...</td>\n      <td>И думать заставляют о войне</td>\n      <td>https://nplus1.ru/material/2020/12/25/nuclear-...</td>\n      <td>NaN</td>\n      <td>NaN</td>\n      <td>NaN</td>\n      <td>NaN</td>\n      <td>NaN</td>\n      <td>NaN</td>\n      <td>NaN</td>\n      <td>NaN</td>\n    </tr>\n    <tr>\n      <th>1004</th>\n      <td>True</td>\n      <td>ujAP4xoQgWysjDtZvcwAA8</td>\n      <td>1.609140e+09</td>\n      <td>1.609154e+09</td>\n      <td>link</td>\n      <td>True</td>\n      <td>52gvzos9eu8</td>\n      <td>self</td>\n      <td>ujAP4xoQgWy</td>\n      <td>eugeny.varseev@gmail.com</td>\n      <td>...</td>\n      <td>Заметки из путешествия по России | Артгид</td>\n      <td>https://artguide.com/posts/2144</td>\n      <td>NaN</td>\n      <td>NaN</td>\n      <td>NaN</td>\n      <td>NaN</td>\n      <td>NaN</td>\n      <td>NaN</td>\n      <td>NaN</td>\n      <td>NaN</td>\n    </tr>\n    <tr>\n      <th>1005</th>\n      <td>True</td>\n      <td>ujAP4xoQgWysjD1Vkx0XEO</td>\n      <td>1.609140e+09</td>\n      <td>1.609154e+09</td>\n      <td>link</td>\n      <td>True</td>\n      <td>27pn7mmwvyp</td>\n      <td>self</td>\n      <td>ujAP4xoQgWy</td>\n      <td>eugeny.varseev@gmail.com</td>\n      <td>...</td>\n      <td>\"Уже не соединить то, что было разрушено\". Как...</td>\n      <td>https://www.sibreal.org/a/30995251.html</td>\n      <td>NaN</td>\n      <td>NaN</td>\n      <td>NaN</td>\n      <td>NaN</td>\n      <td>NaN</td>\n      <td>NaN</td>\n      <td>NaN</td>\n      <td>NaN</td>\n    </tr>\n    <tr>\n      <th>1006</th>\n      <td>True</td>\n      <td>ujAP4xoQgWysjBi66eOgJU</td>\n      <td>1.609139e+09</td>\n      <td>1.609154e+09</td>\n      <td>link</td>\n      <td>True</td>\n      <td>jxnxwjvc1ts</td>\n      <td>self</td>\n      <td>ujAP4xoQgWy</td>\n      <td>eugeny.varseev@gmail.com</td>\n      <td>...</td>\n      <td>В Москве умер один из самых известных западных...</td>\n      <td>https://meduza.io/feature/2020/12/26/v-moskve-...</td>\n      <td>NaN</td>\n      <td>NaN</td>\n      <td>NaN</td>\n      <td>NaN</td>\n      <td>NaN</td>\n      <td>NaN</td>\n      <td>NaN</td>\n      <td>NaN</td>\n    </tr>\n    <tr>\n      <th>1007</th>\n      <td>True</td>\n      <td>ujAP4xoQgWysjAtrb3cCgC</td>\n      <td>1.609138e+09</td>\n      <td>1.609154e+09</td>\n      <td>link</td>\n      <td>True</td>\n      <td>0ts9n4o2fuy</td>\n      <td>self</td>\n      <td>ujAP4xoQgWy</td>\n      <td>eugeny.varseev@gmail.com</td>\n      <td>...</td>\n      <td>5 good books for a lousy year | Bill Gates</td>\n      <td>https://www.gatesnotes.com/About-Bill-Gates/Ho...</td>\n      <td>NaN</td>\n      <td>NaN</td>\n      <td>NaN</td>\n      <td>NaN</td>\n      <td>NaN</td>\n      <td>NaN</td>\n      <td>NaN</td>\n      <td>NaN</td>\n    </tr>\n  </tbody>\n</table>\n<p>1008 rows × 27 columns</p>\n</div>"
     },
     "execution_count": 51,
     "metadata": {},
     "output_type": "execute_result"
    }
   ],
   "source": [
    "pd.DataFrame(pushes_list)"
   ],
   "metadata": {
    "collapsed": false,
    "pycharm": {
     "name": "#%%\n"
    }
   }
  },
  {
   "cell_type": "code",
   "execution_count": 52,
   "outputs": [
    {
     "name": "stdout",
     "output_type": "stream",
     "text": [
      "2020-12-28 09:39:17.799657\n"
     ]
    }
   ],
   "source": [
    "# data of the earliest push\n",
    "print( datetime.fromtimestamp(pd.DataFrame(pushes_list)['created'][pd.DataFrame(pushes_list).shape[0] - 1]) )"
   ],
   "metadata": {
    "collapsed": false,
    "pycharm": {
     "name": "#%%\n"
    }
   }
  },
  {
   "cell_type": "code",
   "execution_count": 53,
   "id": "c22f6eb6",
   "metadata": {
    "ExecuteTime": {
     "end_time": "2021-09-16T07:35:49.797670Z",
     "start_time": "2021-09-16T07:35:49.775654Z"
    }
   },
   "outputs": [
    {
     "data": {
      "text/plain": "          created                                file_name  \\\n2    1.638348e+09                  register-connector.json   \n8    1.638261e+09                            no_legacy.apk   \n31   1.637849e+09           Screenshot_20211125_170532.png   \n114  1.636696e+09        ai-помощник-ux-varseev-fabuza.pdf   \n115  1.636697e+09                     BG with logo (2).png   \n..            ...                                      ...   \n964  1.610452e+09                             IMG_7614.jpg   \n965  1.610398e+09                           Nesterov_A.pdf   \n971  1.610337e+09  Screenshot_2021-01-11-06-46-38-040.jpeg   \n984  1.610306e+09                              R12_L14.pdf   \n991  1.609669e+09  Screenshot_2021-01-03-13-06-56-101.jpeg   \n\n                                              file_url  \n2    https://dl3.pushbulletusercontent.com/W8XjJn7M...  \n8    https://dl3.pushbulletusercontent.com/QrspEs7i...  \n31   https://dl3.pushbulletusercontent.com/D1SmJ8dW...  \n114  https://dl3.pushbulletusercontent.com/HGTKRFmZ...  \n115  https://dl3.pushbulletusercontent.com/vIstnjoN...  \n..                                                 ...  \n964  https://dl3.pushbulletusercontent.com/FP9W38E3...  \n965  https://dl3.pushbulletusercontent.com/l7ZJjl4X...  \n971  https://dl3.pushbulletusercontent.com/17BuYdq5...  \n984  https://dl3.pushbulletusercontent.com/cQiafp26...  \n991  https://dl3.pushbulletusercontent.com/Gm9QLI3F...  \n\n[68 rows x 3 columns]",
      "text/html": "<div>\n<style scoped>\n    .dataframe tbody tr th:only-of-type {\n        vertical-align: middle;\n    }\n\n    .dataframe tbody tr th {\n        vertical-align: top;\n    }\n\n    .dataframe thead th {\n        text-align: right;\n    }\n</style>\n<table border=\"1\" class=\"dataframe\">\n  <thead>\n    <tr style=\"text-align: right;\">\n      <th></th>\n      <th>created</th>\n      <th>file_name</th>\n      <th>file_url</th>\n    </tr>\n  </thead>\n  <tbody>\n    <tr>\n      <th>2</th>\n      <td>1.638348e+09</td>\n      <td>register-connector.json</td>\n      <td>https://dl3.pushbulletusercontent.com/W8XjJn7M...</td>\n    </tr>\n    <tr>\n      <th>8</th>\n      <td>1.638261e+09</td>\n      <td>no_legacy.apk</td>\n      <td>https://dl3.pushbulletusercontent.com/QrspEs7i...</td>\n    </tr>\n    <tr>\n      <th>31</th>\n      <td>1.637849e+09</td>\n      <td>Screenshot_20211125_170532.png</td>\n      <td>https://dl3.pushbulletusercontent.com/D1SmJ8dW...</td>\n    </tr>\n    <tr>\n      <th>114</th>\n      <td>1.636696e+09</td>\n      <td>ai-помощник-ux-varseev-fabuza.pdf</td>\n      <td>https://dl3.pushbulletusercontent.com/HGTKRFmZ...</td>\n    </tr>\n    <tr>\n      <th>115</th>\n      <td>1.636697e+09</td>\n      <td>BG with logo (2).png</td>\n      <td>https://dl3.pushbulletusercontent.com/vIstnjoN...</td>\n    </tr>\n    <tr>\n      <th>...</th>\n      <td>...</td>\n      <td>...</td>\n      <td>...</td>\n    </tr>\n    <tr>\n      <th>964</th>\n      <td>1.610452e+09</td>\n      <td>IMG_7614.jpg</td>\n      <td>https://dl3.pushbulletusercontent.com/FP9W38E3...</td>\n    </tr>\n    <tr>\n      <th>965</th>\n      <td>1.610398e+09</td>\n      <td>Nesterov_A.pdf</td>\n      <td>https://dl3.pushbulletusercontent.com/l7ZJjl4X...</td>\n    </tr>\n    <tr>\n      <th>971</th>\n      <td>1.610337e+09</td>\n      <td>Screenshot_2021-01-11-06-46-38-040.jpeg</td>\n      <td>https://dl3.pushbulletusercontent.com/17BuYdq5...</td>\n    </tr>\n    <tr>\n      <th>984</th>\n      <td>1.610306e+09</td>\n      <td>R12_L14.pdf</td>\n      <td>https://dl3.pushbulletusercontent.com/cQiafp26...</td>\n    </tr>\n    <tr>\n      <th>991</th>\n      <td>1.609669e+09</td>\n      <td>Screenshot_2021-01-03-13-06-56-101.jpeg</td>\n      <td>https://dl3.pushbulletusercontent.com/Gm9QLI3F...</td>\n    </tr>\n  </tbody>\n</table>\n<p>68 rows × 3 columns</p>\n</div>"
     },
     "execution_count": 53,
     "metadata": {},
     "output_type": "execute_result"
    }
   ],
   "source": [
    "#all files in df\n",
    "pd.DataFrame(pushes_list)[['created', 'file_name', 'file_url']].dropna()"
   ]
  },
  {
   "cell_type": "code",
   "execution_count": 54,
   "id": "9e1d3e52",
   "metadata": {
    "ExecuteTime": {
     "end_time": "2021-09-16T07:37:33.623303Z",
     "start_time": "2021-09-16T07:37:33.592182Z"
    }
   },
   "outputs": [],
   "source": [
    "filepath = \"varsey_pushes_current.pkl\"\n",
    "data_file = open(filepath, \"wb\")\n",
    "pickle.dump(pd.DataFrame(pushes_list), data_file)\n",
    "data_file.close()"
   ]
  },
  {
   "cell_type": "code",
   "execution_count": 35,
   "id": "351c437e",
   "metadata": {
    "ExecuteTime": {
     "end_time": "2021-09-16T07:38:34.732037Z",
     "start_time": "2021-09-16T07:38:34.720445Z"
    }
   },
   "outputs": [],
   "source": [
    "data_file = open(filepath, \"rb\")\n",
    "df = pickle.load(data_file)\n",
    "data_file.close()"
   ]
  },
  {
   "cell_type": "code",
   "execution_count": 36,
   "outputs": [],
   "source": [
    "df['created'] = pd.to_datetime(df['created'], unit='s')\n",
    "df['modified'] = pd.to_datetime(df['modified'], unit='s')"
   ],
   "metadata": {
    "collapsed": false,
    "pycharm": {
     "name": "#%%\n"
    }
   }
  },
  {
   "cell_type": "code",
   "execution_count": 37,
   "outputs": [
    {
     "data": {
      "text/plain": "   active                    iden                       created  \\\n0    True  ujAP4xoQgWysjDBwXSDwPc 2021-12-01 07:15:43.597968896   \n1    True  ujAP4xoQgWysjAvKbkGfK0 2021-12-01 11:22:31.451400960   \n2    True  ujAP4xoQgWysjB6FxztV3A 2021-12-01 08:32:17.277405952   \n3    True  ujAP4xoQgWysjANmVw6MH6 2021-11-30 13:23:19.502317056   \n4    True  ujAP4xoQgWysjz6BRsVYUm 2021-11-30 12:29:37.795155968   \n\n                       modified  type  dismissed         guid direction  \\\n0 2021-12-01 11:50:04.568537088  link       True  xsf2dagdhjl      self   \n1 2021-12-01 11:50:04.565466880  note       True  tfz5c02399o      self   \n2 2021-12-01 11:50:04.564750080  file       True  8tchny24rfu      self   \n3 2021-11-30 13:23:36.022526976  link       True  xqc6gh5rp7f      self   \n4 2021-11-30 12:29:38.887156992  link       True  6rzk6xp3go2      self   \n\n   sender_iden              sender_email  ...  \\\n0  ujAP4xoQgWy  eugeny.varseev@gmail.com  ...   \n1  ujAP4xoQgWy  eugeny.varseev@gmail.com  ...   \n2  ujAP4xoQgWy  eugeny.varseev@gmail.com  ...   \n3  ujAP4xoQgWy  eugeny.varseev@gmail.com  ...   \n4  ujAP4xoQgWy  eugeny.varseev@gmail.com  ...   \n\n                                               title  \\\n0  101 Ways to Use Third-Party Data eBook FINAL 1...   \n1                                                NaN   \n2                                                NaN   \n3                                                NaN   \n4                                          hi-Flyers   \n\n                                                 url              body  \\\n0  https://pages.awscloud.com/rs/112-TZM-766/imag...               NaN   \n1                                                NaN  G5tPm2Lucpnr7zJ3   \n2                                                NaN               NaN   \n3  https://beta-test.fabuza.ru/5b82af6c-8921-4217...               NaN   \n4  https://game.hi.com/hi-flyers/v1.2.1/?code=Ffi...               NaN   \n\n                 file_name         file_type  \\\n0                      NaN               NaN   \n1                      NaN               NaN   \n2  register-connector.json  application/json   \n3                      NaN               NaN   \n4                      NaN               NaN   \n\n                                            file_url image_width image_height  \\\n0                                                NaN         NaN          NaN   \n1                                                NaN         NaN          NaN   \n2  https://dl3.pushbulletusercontent.com/W8XjJn7M...         NaN          NaN   \n3                                                NaN         NaN          NaN   \n4                                                NaN         NaN          NaN   \n\n  image_url target_device_iden  \n0       NaN                NaN  \n1       NaN                NaN  \n2       NaN                NaN  \n3       NaN                NaN  \n4       NaN                NaN  \n\n[5 rows x 27 columns]",
      "text/html": "<div>\n<style scoped>\n    .dataframe tbody tr th:only-of-type {\n        vertical-align: middle;\n    }\n\n    .dataframe tbody tr th {\n        vertical-align: top;\n    }\n\n    .dataframe thead th {\n        text-align: right;\n    }\n</style>\n<table border=\"1\" class=\"dataframe\">\n  <thead>\n    <tr style=\"text-align: right;\">\n      <th></th>\n      <th>active</th>\n      <th>iden</th>\n      <th>created</th>\n      <th>modified</th>\n      <th>type</th>\n      <th>dismissed</th>\n      <th>guid</th>\n      <th>direction</th>\n      <th>sender_iden</th>\n      <th>sender_email</th>\n      <th>...</th>\n      <th>title</th>\n      <th>url</th>\n      <th>body</th>\n      <th>file_name</th>\n      <th>file_type</th>\n      <th>file_url</th>\n      <th>image_width</th>\n      <th>image_height</th>\n      <th>image_url</th>\n      <th>target_device_iden</th>\n    </tr>\n  </thead>\n  <tbody>\n    <tr>\n      <th>0</th>\n      <td>True</td>\n      <td>ujAP4xoQgWysjDBwXSDwPc</td>\n      <td>2021-12-01 07:15:43.597968896</td>\n      <td>2021-12-01 11:50:04.568537088</td>\n      <td>link</td>\n      <td>True</td>\n      <td>xsf2dagdhjl</td>\n      <td>self</td>\n      <td>ujAP4xoQgWy</td>\n      <td>eugeny.varseev@gmail.com</td>\n      <td>...</td>\n      <td>101 Ways to Use Third-Party Data eBook FINAL 1...</td>\n      <td>https://pages.awscloud.com/rs/112-TZM-766/imag...</td>\n      <td>NaN</td>\n      <td>NaN</td>\n      <td>NaN</td>\n      <td>NaN</td>\n      <td>NaN</td>\n      <td>NaN</td>\n      <td>NaN</td>\n      <td>NaN</td>\n    </tr>\n    <tr>\n      <th>1</th>\n      <td>True</td>\n      <td>ujAP4xoQgWysjAvKbkGfK0</td>\n      <td>2021-12-01 11:22:31.451400960</td>\n      <td>2021-12-01 11:50:04.565466880</td>\n      <td>note</td>\n      <td>True</td>\n      <td>tfz5c02399o</td>\n      <td>self</td>\n      <td>ujAP4xoQgWy</td>\n      <td>eugeny.varseev@gmail.com</td>\n      <td>...</td>\n      <td>NaN</td>\n      <td>NaN</td>\n      <td>G5tPm2Lucpnr7zJ3</td>\n      <td>NaN</td>\n      <td>NaN</td>\n      <td>NaN</td>\n      <td>NaN</td>\n      <td>NaN</td>\n      <td>NaN</td>\n      <td>NaN</td>\n    </tr>\n    <tr>\n      <th>2</th>\n      <td>True</td>\n      <td>ujAP4xoQgWysjB6FxztV3A</td>\n      <td>2021-12-01 08:32:17.277405952</td>\n      <td>2021-12-01 11:50:04.564750080</td>\n      <td>file</td>\n      <td>True</td>\n      <td>8tchny24rfu</td>\n      <td>self</td>\n      <td>ujAP4xoQgWy</td>\n      <td>eugeny.varseev@gmail.com</td>\n      <td>...</td>\n      <td>NaN</td>\n      <td>NaN</td>\n      <td>NaN</td>\n      <td>register-connector.json</td>\n      <td>application/json</td>\n      <td>https://dl3.pushbulletusercontent.com/W8XjJn7M...</td>\n      <td>NaN</td>\n      <td>NaN</td>\n      <td>NaN</td>\n      <td>NaN</td>\n    </tr>\n    <tr>\n      <th>3</th>\n      <td>True</td>\n      <td>ujAP4xoQgWysjANmVw6MH6</td>\n      <td>2021-11-30 13:23:19.502317056</td>\n      <td>2021-11-30 13:23:36.022526976</td>\n      <td>link</td>\n      <td>True</td>\n      <td>xqc6gh5rp7f</td>\n      <td>self</td>\n      <td>ujAP4xoQgWy</td>\n      <td>eugeny.varseev@gmail.com</td>\n      <td>...</td>\n      <td>NaN</td>\n      <td>https://beta-test.fabuza.ru/5b82af6c-8921-4217...</td>\n      <td>NaN</td>\n      <td>NaN</td>\n      <td>NaN</td>\n      <td>NaN</td>\n      <td>NaN</td>\n      <td>NaN</td>\n      <td>NaN</td>\n      <td>NaN</td>\n    </tr>\n    <tr>\n      <th>4</th>\n      <td>True</td>\n      <td>ujAP4xoQgWysjz6BRsVYUm</td>\n      <td>2021-11-30 12:29:37.795155968</td>\n      <td>2021-11-30 12:29:38.887156992</td>\n      <td>link</td>\n      <td>True</td>\n      <td>6rzk6xp3go2</td>\n      <td>self</td>\n      <td>ujAP4xoQgWy</td>\n      <td>eugeny.varseev@gmail.com</td>\n      <td>...</td>\n      <td>hi-Flyers</td>\n      <td>https://game.hi.com/hi-flyers/v1.2.1/?code=Ffi...</td>\n      <td>NaN</td>\n      <td>NaN</td>\n      <td>NaN</td>\n      <td>NaN</td>\n      <td>NaN</td>\n      <td>NaN</td>\n      <td>NaN</td>\n      <td>NaN</td>\n    </tr>\n  </tbody>\n</table>\n<p>5 rows × 27 columns</p>\n</div>"
     },
     "execution_count": 37,
     "metadata": {},
     "output_type": "execute_result"
    }
   ],
   "source": [
    "df.head()"
   ],
   "metadata": {
    "collapsed": false,
    "pycharm": {
     "name": "#%%\n"
    }
   }
  },
  {
   "cell_type": "code",
   "execution_count": 38,
   "outputs": [
    {
     "name": "stdout",
     "output_type": "stream",
     "text": [
      "The Next Big Challenge for Data is Organizational - Locally Optimistic\n",
      "[2102.12923] Machine Learning-Based Optimal Mesh Generation in Computational Fluid Dynamics\n",
      "Towards Automated Optimization of Web Interfaces and Application to E-commerce - fulltext.pdf\n"
     ]
    }
   ],
   "source": [
    "for item in df['title'].to_list():\n",
    "    if 'opt' in str(item).lower():\n",
    "        print(item)"
   ],
   "metadata": {
    "collapsed": false,
    "pycharm": {
     "name": "#%%\n"
    }
   }
  },
  {
   "cell_type": "code",
   "execution_count": 38,
   "outputs": [],
   "source": [],
   "metadata": {
    "collapsed": false,
    "pycharm": {
     "name": "#%%\n"
    }
   }
  },
  {
   "cell_type": "markdown",
   "source": [
    "## update pushes archive"
   ],
   "metadata": {
    "collapsed": false,
    "pycharm": {
     "name": "#%% md\n"
    }
   }
  },
  {
   "cell_type": "code",
   "execution_count": 39,
   "outputs": [],
   "source": [
    "data_file_old = open(\"varsey_pushes_archive.pkl\", \"rb\")\n",
    "df_old = pickle.load(data_file_old)\n",
    "data_file_old.close()"
   ],
   "metadata": {
    "collapsed": false,
    "pycharm": {
     "name": "#%%\n"
    }
   }
  },
  {
   "cell_type": "code",
   "execution_count": 40,
   "outputs": [
    {
     "ename": "KeyError",
     "evalue": "'modified'",
     "output_type": "error",
     "traceback": [
      "\u001B[0;31m---------------------------------------------------------------------------\u001B[0m",
      "\u001B[0;31mKeyError\u001B[0m                                  Traceback (most recent call last)",
      "\u001B[0;32m~/PycharmProjects/pushbullet-app/env/lib/python3.9/site-packages/pandas/core/indexes/base.py\u001B[0m in \u001B[0;36mget_loc\u001B[0;34m(self, key, method, tolerance)\u001B[0m\n\u001B[1;32m   3360\u001B[0m             \u001B[0;32mtry\u001B[0m\u001B[0;34m:\u001B[0m\u001B[0;34m\u001B[0m\u001B[0;34m\u001B[0m\u001B[0m\n\u001B[0;32m-> 3361\u001B[0;31m                 \u001B[0;32mreturn\u001B[0m \u001B[0mself\u001B[0m\u001B[0;34m.\u001B[0m\u001B[0m_engine\u001B[0m\u001B[0;34m.\u001B[0m\u001B[0mget_loc\u001B[0m\u001B[0;34m(\u001B[0m\u001B[0mcasted_key\u001B[0m\u001B[0;34m)\u001B[0m\u001B[0;34m\u001B[0m\u001B[0;34m\u001B[0m\u001B[0m\n\u001B[0m\u001B[1;32m   3362\u001B[0m             \u001B[0;32mexcept\u001B[0m \u001B[0mKeyError\u001B[0m \u001B[0;32mas\u001B[0m \u001B[0merr\u001B[0m\u001B[0;34m:\u001B[0m\u001B[0;34m\u001B[0m\u001B[0;34m\u001B[0m\u001B[0m\n",
      "\u001B[0;32m~/PycharmProjects/pushbullet-app/env/lib/python3.9/site-packages/pandas/_libs/index.pyx\u001B[0m in \u001B[0;36mpandas._libs.index.IndexEngine.get_loc\u001B[0;34m()\u001B[0m\n",
      "\u001B[0;32m~/PycharmProjects/pushbullet-app/env/lib/python3.9/site-packages/pandas/_libs/index.pyx\u001B[0m in \u001B[0;36mpandas._libs.index.IndexEngine.get_loc\u001B[0;34m()\u001B[0m\n",
      "\u001B[0;32mpandas/_libs/hashtable_class_helper.pxi\u001B[0m in \u001B[0;36mpandas._libs.hashtable.PyObjectHashTable.get_item\u001B[0;34m()\u001B[0m\n",
      "\u001B[0;32mpandas/_libs/hashtable_class_helper.pxi\u001B[0m in \u001B[0;36mpandas._libs.hashtable.PyObjectHashTable.get_item\u001B[0;34m()\u001B[0m\n",
      "\u001B[0;31mKeyError\u001B[0m: 'modified'",
      "\nThe above exception was the direct cause of the following exception:\n",
      "\u001B[0;31mKeyError\u001B[0m                                  Traceback (most recent call last)",
      "\u001B[0;32m/tmp/ipykernel_20440/1384855410.py\u001B[0m in \u001B[0;36m<module>\u001B[0;34m\u001B[0m\n\u001B[1;32m      1\u001B[0m \u001B[0mdf_old\u001B[0m\u001B[0;34m[\u001B[0m\u001B[0;34m'created'\u001B[0m\u001B[0;34m]\u001B[0m \u001B[0;34m=\u001B[0m \u001B[0mpd\u001B[0m\u001B[0;34m.\u001B[0m\u001B[0mto_datetime\u001B[0m\u001B[0;34m(\u001B[0m\u001B[0mdf_old\u001B[0m\u001B[0;34m[\u001B[0m\u001B[0;34m'created'\u001B[0m\u001B[0;34m]\u001B[0m\u001B[0;34m,\u001B[0m \u001B[0munit\u001B[0m\u001B[0;34m=\u001B[0m\u001B[0;34m's'\u001B[0m\u001B[0;34m)\u001B[0m\u001B[0;34m\u001B[0m\u001B[0;34m\u001B[0m\u001B[0m\n\u001B[0;32m----> 2\u001B[0;31m \u001B[0mdf_old\u001B[0m\u001B[0;34m[\u001B[0m\u001B[0;34m'modified'\u001B[0m\u001B[0;34m]\u001B[0m \u001B[0;34m=\u001B[0m \u001B[0mpd\u001B[0m\u001B[0;34m.\u001B[0m\u001B[0mto_datetime\u001B[0m\u001B[0;34m(\u001B[0m\u001B[0mdf_old\u001B[0m\u001B[0;34m[\u001B[0m\u001B[0;34m'modified'\u001B[0m\u001B[0;34m]\u001B[0m\u001B[0;34m,\u001B[0m \u001B[0munit\u001B[0m\u001B[0;34m=\u001B[0m\u001B[0;34m's'\u001B[0m\u001B[0;34m)\u001B[0m\u001B[0;34m\u001B[0m\u001B[0;34m\u001B[0m\u001B[0m\n\u001B[0m",
      "\u001B[0;32m~/PycharmProjects/pushbullet-app/env/lib/python3.9/site-packages/pandas/core/frame.py\u001B[0m in \u001B[0;36m__getitem__\u001B[0;34m(self, key)\u001B[0m\n\u001B[1;32m   3456\u001B[0m             \u001B[0;32mif\u001B[0m \u001B[0mself\u001B[0m\u001B[0;34m.\u001B[0m\u001B[0mcolumns\u001B[0m\u001B[0;34m.\u001B[0m\u001B[0mnlevels\u001B[0m \u001B[0;34m>\u001B[0m \u001B[0;36m1\u001B[0m\u001B[0;34m:\u001B[0m\u001B[0;34m\u001B[0m\u001B[0;34m\u001B[0m\u001B[0m\n\u001B[1;32m   3457\u001B[0m                 \u001B[0;32mreturn\u001B[0m \u001B[0mself\u001B[0m\u001B[0;34m.\u001B[0m\u001B[0m_getitem_multilevel\u001B[0m\u001B[0;34m(\u001B[0m\u001B[0mkey\u001B[0m\u001B[0;34m)\u001B[0m\u001B[0;34m\u001B[0m\u001B[0;34m\u001B[0m\u001B[0m\n\u001B[0;32m-> 3458\u001B[0;31m             \u001B[0mindexer\u001B[0m \u001B[0;34m=\u001B[0m \u001B[0mself\u001B[0m\u001B[0;34m.\u001B[0m\u001B[0mcolumns\u001B[0m\u001B[0;34m.\u001B[0m\u001B[0mget_loc\u001B[0m\u001B[0;34m(\u001B[0m\u001B[0mkey\u001B[0m\u001B[0;34m)\u001B[0m\u001B[0;34m\u001B[0m\u001B[0;34m\u001B[0m\u001B[0m\n\u001B[0m\u001B[1;32m   3459\u001B[0m             \u001B[0;32mif\u001B[0m \u001B[0mis_integer\u001B[0m\u001B[0;34m(\u001B[0m\u001B[0mindexer\u001B[0m\u001B[0;34m)\u001B[0m\u001B[0;34m:\u001B[0m\u001B[0;34m\u001B[0m\u001B[0;34m\u001B[0m\u001B[0m\n\u001B[1;32m   3460\u001B[0m                 \u001B[0mindexer\u001B[0m \u001B[0;34m=\u001B[0m \u001B[0;34m[\u001B[0m\u001B[0mindexer\u001B[0m\u001B[0;34m]\u001B[0m\u001B[0;34m\u001B[0m\u001B[0;34m\u001B[0m\u001B[0m\n",
      "\u001B[0;32m~/PycharmProjects/pushbullet-app/env/lib/python3.9/site-packages/pandas/core/indexes/base.py\u001B[0m in \u001B[0;36mget_loc\u001B[0;34m(self, key, method, tolerance)\u001B[0m\n\u001B[1;32m   3361\u001B[0m                 \u001B[0;32mreturn\u001B[0m \u001B[0mself\u001B[0m\u001B[0;34m.\u001B[0m\u001B[0m_engine\u001B[0m\u001B[0;34m.\u001B[0m\u001B[0mget_loc\u001B[0m\u001B[0;34m(\u001B[0m\u001B[0mcasted_key\u001B[0m\u001B[0;34m)\u001B[0m\u001B[0;34m\u001B[0m\u001B[0;34m\u001B[0m\u001B[0m\n\u001B[1;32m   3362\u001B[0m             \u001B[0;32mexcept\u001B[0m \u001B[0mKeyError\u001B[0m \u001B[0;32mas\u001B[0m \u001B[0merr\u001B[0m\u001B[0;34m:\u001B[0m\u001B[0;34m\u001B[0m\u001B[0;34m\u001B[0m\u001B[0m\n\u001B[0;32m-> 3363\u001B[0;31m                 \u001B[0;32mraise\u001B[0m \u001B[0mKeyError\u001B[0m\u001B[0;34m(\u001B[0m\u001B[0mkey\u001B[0m\u001B[0;34m)\u001B[0m \u001B[0;32mfrom\u001B[0m \u001B[0merr\u001B[0m\u001B[0;34m\u001B[0m\u001B[0;34m\u001B[0m\u001B[0m\n\u001B[0m\u001B[1;32m   3364\u001B[0m \u001B[0;34m\u001B[0m\u001B[0m\n\u001B[1;32m   3365\u001B[0m         \u001B[0;32mif\u001B[0m \u001B[0mis_scalar\u001B[0m\u001B[0;34m(\u001B[0m\u001B[0mkey\u001B[0m\u001B[0;34m)\u001B[0m \u001B[0;32mand\u001B[0m \u001B[0misna\u001B[0m\u001B[0;34m(\u001B[0m\u001B[0mkey\u001B[0m\u001B[0;34m)\u001B[0m \u001B[0;32mand\u001B[0m \u001B[0;32mnot\u001B[0m \u001B[0mself\u001B[0m\u001B[0;34m.\u001B[0m\u001B[0mhasnans\u001B[0m\u001B[0;34m:\u001B[0m\u001B[0;34m\u001B[0m\u001B[0;34m\u001B[0m\u001B[0m\n",
      "\u001B[0;31mKeyError\u001B[0m: 'modified'"
     ]
    }
   ],
   "source": [
    "df_old['created'] = pd.to_datetime(df_old['created'], unit='s')\n",
    "df_old['modified'] = pd.to_datetime(df_old['modified'], unit='s')"
   ],
   "metadata": {
    "collapsed": false,
    "pycharm": {
     "name": "#%%\n"
    }
   }
  },
  {
   "cell_type": "code",
   "execution_count": 41,
   "outputs": [
    {
     "data": {
      "text/plain": "((7349, 7), (1008, 27))"
     },
     "execution_count": 41,
     "metadata": {},
     "output_type": "execute_result"
    }
   ],
   "source": [
    "clm_list = list(df_old.columns)\n",
    "df_old.shape, df.shape"
   ],
   "metadata": {
    "collapsed": false,
    "pycharm": {
     "name": "#%%\n"
    }
   }
  },
  {
   "cell_type": "code",
   "execution_count": 42,
   "outputs": [
    {
     "data": {
      "text/plain": "(14025, 7)"
     },
     "execution_count": 42,
     "metadata": {},
     "output_type": "execute_result"
    }
   ],
   "source": [
    "df_archive = pd.concat(\n",
    "    [df_old,\n",
    "     df_old[~df_old.created.isin(df.created.to_list())],]\n",
    ")\n",
    "df_archive.shape"
   ],
   "metadata": {
    "collapsed": false,
    "pycharm": {
     "name": "#%%\n"
    }
   }
  },
  {
   "cell_type": "code",
   "execution_count": 43,
   "outputs": [],
   "source": [
    "filepath = \"varsey_pushes_archive.pkl\"\n",
    "data_file = open(filepath, \"wb\")\n",
    "pickle.dump(df_archive, data_file)\n",
    "data_file.close()"
   ],
   "metadata": {
    "collapsed": false,
    "pycharm": {
     "name": "#%%\n"
    }
   }
  },
  {
   "cell_type": "code",
   "execution_count": 44,
   "outputs": [],
   "source": [
    "filepath = \"varsey_pushes_archive.pkl\"\n",
    "data_file = open(filepath, \"rb\")\n",
    "df_arch = pickle.load(data_file)\n",
    "data_file.close()"
   ],
   "metadata": {
    "collapsed": false,
    "pycharm": {
     "name": "#%%\n"
    }
   }
  },
  {
   "cell_type": "code",
   "execution_count": 45,
   "outputs": [],
   "source": [
    "#TODO - сделать функцию \"открыть пикл файл\" черещ with"
   ],
   "metadata": {
    "collapsed": false,
    "pycharm": {
     "name": "#%%\n"
    }
   }
  },
  {
   "cell_type": "code",
   "execution_count": 55,
   "outputs": [],
   "source": [
    "filepath = \"varsey_pushes_current.pkl\"\n",
    "data_file = open(filepath, \"wb\")\n",
    "pickle.dump(pd.DataFrame(pushes_list)[['created', 'type', 'title', 'url', 'body', 'file_name', 'file_url', ]], data_file)\n",
    "data_file.close()"
   ],
   "metadata": {
    "collapsed": false,
    "pycharm": {
     "name": "#%%\n"
    }
   }
  },
  {
   "cell_type": "code",
   "execution_count": 67,
   "outputs": [],
   "source": [
    "to_search = pd.DataFrame(pushes_list)[['created', 'type', 'title', 'url', 'body', 'file_name', 'file_url', ]].dropna(subset=['url'])"
   ],
   "metadata": {
    "collapsed": false,
    "pycharm": {
     "name": "#%%\n"
    }
   }
  },
  {
   "cell_type": "code",
   "execution_count": 69,
   "outputs": [
    {
     "data": {
      "text/plain": "          created  type                                              title  \\\n40   1.637737e+09  link                       Николай Чумаков — Блог на TJ   \n94   1.637134e+09  link  Как получить налоговый вычет за обучение в 202...   \n100  1.636961e+09  link  Убеждения про деньги, от которых стоит избавиться   \n118  1.636961e+09  link  Как пользоваться посудомоечной машиной: правил...   \n206  1.634914e+09  link  7 Important Linux Commands for Every Linux Use...   \n267  1.633809e+09  link  Как живет ИТ-директор в Москве с доходом 745 0...   \n379  1.630305e+09  link  Text Data Augmentation for Deep Learning - s40...   \n422  1.629364e+09  link  Editorial: Machine Learning and Physical Revie...   \n424  1.629183e+09  link                                                NaN   \n494  1.626035e+09  link  Должны ли взрослые дети оказывать финансовую п...   \n649  1.619299e+09  link  Как устроено мошенничество с клонированием сим...   \n652  1.619204e+09  link  Техосмотр автомобиля в 2021 году: новые правил...   \n732  1.617271e+09  link  Сколько стоит исследовать свою генеалогию и уз...   \n742  1.617104e+09  link  Как получить налоговый вычет за обучение в 202...   \n791  1.615977e+09  link        Как заполнить декларацию на налоговый вычет   \n856  1.614771e+09  link                 Как обустроить канализацию на даче   \n896  1.614146e+09  link  Смертельный сюрприз шахты \"Юнком\": ядерный взр...   \n906  1.613551e+09  link  Как живет лаборант в Калининграде с доходом 61...   \n941  1.611057e+09  link  Как «ритуалы вины и позора» возвращаются в жиз...   \n\n                                                   url body file_name file_url  \n40        https://tjournal.ru/u/98420-nikolay-chumakov  NaN       NaN      NaN  \n94        https://journal.tinkoff.ru/vychet-za-uchebu/  NaN       NaN      NaN  \n100  https://journal.tinkoff.ru/money-attachment/?m...  NaN       NaN      NaN  \n118  https://journal.tinkoff.ru/guide/to-wash-or-no...  NaN       NaN      NaN  \n206  https://www.linuxjournal.com/content/7-importa...  NaN       NaN      NaN  \n267  https://journal.tinkoff.ru/diary-it-director-m...  NaN       NaN      NaN  \n379  https://journalofbigdata.springeropen.com/trac...  NaN       NaN      NaN  \n422  https://journals.aps.org/prfluids/pdf/10.1103/...  NaN       NaN      NaN  \n424  https://journal.tinkoff.ru/diary-poletniy-disp...  NaN       NaN      NaN  \n494  https://journal.tinkoff.ru/discuss/help-parent...  NaN       NaN      NaN  \n649  https://journal.tinkoff.ru/kibermoshennichestv...  NaN       NaN      NaN  \n652  https://journal.tinkoff.ru/news/tekhosmotr-po-...  NaN       NaN      NaN  \n732  https://journal.tinkoff.ru/diy-genealogy/?utm_...  NaN       NaN      NaN  \n742       https://journal.tinkoff.ru/vychet-za-uchebu/  NaN       NaN      NaN  \n791              https://journal.tinkoff.ru/zapolneno/  NaN       NaN      NaN  \n856  https://journal.tinkoff.ru/umny-septik/?mindbo...  NaN       NaN      NaN  \n896  https://picturehistory.livejournal.com/5816077...  NaN       NaN      NaN  \n906  https://journal.tinkoff.ru/diary-laborant-kali...  NaN       NaN      NaN  \n941  https://baikal-journal.ru/ritualy-viny-i-pozor...  NaN       NaN      NaN  ",
      "text/html": "<div>\n<style scoped>\n    .dataframe tbody tr th:only-of-type {\n        vertical-align: middle;\n    }\n\n    .dataframe tbody tr th {\n        vertical-align: top;\n    }\n\n    .dataframe thead th {\n        text-align: right;\n    }\n</style>\n<table border=\"1\" class=\"dataframe\">\n  <thead>\n    <tr style=\"text-align: right;\">\n      <th></th>\n      <th>created</th>\n      <th>type</th>\n      <th>title</th>\n      <th>url</th>\n      <th>body</th>\n      <th>file_name</th>\n      <th>file_url</th>\n    </tr>\n  </thead>\n  <tbody>\n    <tr>\n      <th>40</th>\n      <td>1.637737e+09</td>\n      <td>link</td>\n      <td>Николай Чумаков — Блог на TJ</td>\n      <td>https://tjournal.ru/u/98420-nikolay-chumakov</td>\n      <td>NaN</td>\n      <td>NaN</td>\n      <td>NaN</td>\n    </tr>\n    <tr>\n      <th>94</th>\n      <td>1.637134e+09</td>\n      <td>link</td>\n      <td>Как получить налоговый вычет за обучение в 202...</td>\n      <td>https://journal.tinkoff.ru/vychet-za-uchebu/</td>\n      <td>NaN</td>\n      <td>NaN</td>\n      <td>NaN</td>\n    </tr>\n    <tr>\n      <th>100</th>\n      <td>1.636961e+09</td>\n      <td>link</td>\n      <td>Убеждения про деньги, от которых стоит избавиться</td>\n      <td>https://journal.tinkoff.ru/money-attachment/?m...</td>\n      <td>NaN</td>\n      <td>NaN</td>\n      <td>NaN</td>\n    </tr>\n    <tr>\n      <th>118</th>\n      <td>1.636961e+09</td>\n      <td>link</td>\n      <td>Как пользоваться посудомоечной машиной: правил...</td>\n      <td>https://journal.tinkoff.ru/guide/to-wash-or-no...</td>\n      <td>NaN</td>\n      <td>NaN</td>\n      <td>NaN</td>\n    </tr>\n    <tr>\n      <th>206</th>\n      <td>1.634914e+09</td>\n      <td>link</td>\n      <td>7 Important Linux Commands for Every Linux Use...</td>\n      <td>https://www.linuxjournal.com/content/7-importa...</td>\n      <td>NaN</td>\n      <td>NaN</td>\n      <td>NaN</td>\n    </tr>\n    <tr>\n      <th>267</th>\n      <td>1.633809e+09</td>\n      <td>link</td>\n      <td>Как живет ИТ-директор в Москве с доходом 745 0...</td>\n      <td>https://journal.tinkoff.ru/diary-it-director-m...</td>\n      <td>NaN</td>\n      <td>NaN</td>\n      <td>NaN</td>\n    </tr>\n    <tr>\n      <th>379</th>\n      <td>1.630305e+09</td>\n      <td>link</td>\n      <td>Text Data Augmentation for Deep Learning - s40...</td>\n      <td>https://journalofbigdata.springeropen.com/trac...</td>\n      <td>NaN</td>\n      <td>NaN</td>\n      <td>NaN</td>\n    </tr>\n    <tr>\n      <th>422</th>\n      <td>1.629364e+09</td>\n      <td>link</td>\n      <td>Editorial: Machine Learning and Physical Revie...</td>\n      <td>https://journals.aps.org/prfluids/pdf/10.1103/...</td>\n      <td>NaN</td>\n      <td>NaN</td>\n      <td>NaN</td>\n    </tr>\n    <tr>\n      <th>424</th>\n      <td>1.629183e+09</td>\n      <td>link</td>\n      <td>NaN</td>\n      <td>https://journal.tinkoff.ru/diary-poletniy-disp...</td>\n      <td>NaN</td>\n      <td>NaN</td>\n      <td>NaN</td>\n    </tr>\n    <tr>\n      <th>494</th>\n      <td>1.626035e+09</td>\n      <td>link</td>\n      <td>Должны ли взрослые дети оказывать финансовую п...</td>\n      <td>https://journal.tinkoff.ru/discuss/help-parent...</td>\n      <td>NaN</td>\n      <td>NaN</td>\n      <td>NaN</td>\n    </tr>\n    <tr>\n      <th>649</th>\n      <td>1.619299e+09</td>\n      <td>link</td>\n      <td>Как устроено мошенничество с клонированием сим...</td>\n      <td>https://journal.tinkoff.ru/kibermoshennichestv...</td>\n      <td>NaN</td>\n      <td>NaN</td>\n      <td>NaN</td>\n    </tr>\n    <tr>\n      <th>652</th>\n      <td>1.619204e+09</td>\n      <td>link</td>\n      <td>Техосмотр автомобиля в 2021 году: новые правил...</td>\n      <td>https://journal.tinkoff.ru/news/tekhosmotr-po-...</td>\n      <td>NaN</td>\n      <td>NaN</td>\n      <td>NaN</td>\n    </tr>\n    <tr>\n      <th>732</th>\n      <td>1.617271e+09</td>\n      <td>link</td>\n      <td>Сколько стоит исследовать свою генеалогию и уз...</td>\n      <td>https://journal.tinkoff.ru/diy-genealogy/?utm_...</td>\n      <td>NaN</td>\n      <td>NaN</td>\n      <td>NaN</td>\n    </tr>\n    <tr>\n      <th>742</th>\n      <td>1.617104e+09</td>\n      <td>link</td>\n      <td>Как получить налоговый вычет за обучение в 202...</td>\n      <td>https://journal.tinkoff.ru/vychet-za-uchebu/</td>\n      <td>NaN</td>\n      <td>NaN</td>\n      <td>NaN</td>\n    </tr>\n    <tr>\n      <th>791</th>\n      <td>1.615977e+09</td>\n      <td>link</td>\n      <td>Как заполнить декларацию на налоговый вычет</td>\n      <td>https://journal.tinkoff.ru/zapolneno/</td>\n      <td>NaN</td>\n      <td>NaN</td>\n      <td>NaN</td>\n    </tr>\n    <tr>\n      <th>856</th>\n      <td>1.614771e+09</td>\n      <td>link</td>\n      <td>Как обустроить канализацию на даче</td>\n      <td>https://journal.tinkoff.ru/umny-septik/?mindbo...</td>\n      <td>NaN</td>\n      <td>NaN</td>\n      <td>NaN</td>\n    </tr>\n    <tr>\n      <th>896</th>\n      <td>1.614146e+09</td>\n      <td>link</td>\n      <td>Смертельный сюрприз шахты \"Юнком\": ядерный взр...</td>\n      <td>https://picturehistory.livejournal.com/5816077...</td>\n      <td>NaN</td>\n      <td>NaN</td>\n      <td>NaN</td>\n    </tr>\n    <tr>\n      <th>906</th>\n      <td>1.613551e+09</td>\n      <td>link</td>\n      <td>Как живет лаборант в Калининграде с доходом 61...</td>\n      <td>https://journal.tinkoff.ru/diary-laborant-kali...</td>\n      <td>NaN</td>\n      <td>NaN</td>\n      <td>NaN</td>\n    </tr>\n    <tr>\n      <th>941</th>\n      <td>1.611057e+09</td>\n      <td>link</td>\n      <td>Как «ритуалы вины и позора» возвращаются в жиз...</td>\n      <td>https://baikal-journal.ru/ritualy-viny-i-pozor...</td>\n      <td>NaN</td>\n      <td>NaN</td>\n      <td>NaN</td>\n    </tr>\n  </tbody>\n</table>\n</div>"
     },
     "execution_count": 69,
     "metadata": {},
     "output_type": "execute_result"
    }
   ],
   "source": [
    "to_search[to_search['url'].str.contains(\"journ\")]"
   ],
   "metadata": {
    "collapsed": false,
    "pycharm": {
     "name": "#%%\n"
    }
   }
  },
  {
   "cell_type": "code",
   "execution_count": 65,
   "outputs": [
    {
     "data": {
      "text/plain": "Empty DataFrame\nColumns: [created, type, title, url, body, file_name, file_url]\nIndex: []",
      "text/html": "<div>\n<style scoped>\n    .dataframe tbody tr th:only-of-type {\n        vertical-align: middle;\n    }\n\n    .dataframe tbody tr th {\n        vertical-align: top;\n    }\n\n    .dataframe thead th {\n        text-align: right;\n    }\n</style>\n<table border=\"1\" class=\"dataframe\">\n  <thead>\n    <tr style=\"text-align: right;\">\n      <th></th>\n      <th>created</th>\n      <th>type</th>\n      <th>title</th>\n      <th>url</th>\n      <th>body</th>\n      <th>file_name</th>\n      <th>file_url</th>\n    </tr>\n  </thead>\n  <tbody>\n  </tbody>\n</table>\n</div>"
     },
     "execution_count": 65,
     "metadata": {},
     "output_type": "execute_result"
    }
   ],
   "source": [
    "to_search"
   ],
   "metadata": {
    "collapsed": false,
    "pycharm": {
     "name": "#%%\n"
    }
   }
  },
  {
   "cell_type": "code",
   "execution_count": null,
   "outputs": [],
   "source": [],
   "metadata": {
    "collapsed": false,
    "pycharm": {
     "name": "#%%\n"
    }
   }
  }
 ],
 "metadata": {
  "kernelspec": {
   "display_name": "Python 3",
   "language": "python",
   "name": "python3"
  },
  "language_info": {
   "codemirror_mode": {
    "name": "ipython",
    "version": 3
   },
   "file_extension": ".py",
   "mimetype": "text/x-python",
   "name": "python",
   "nbconvert_exporter": "python",
   "pygments_lexer": "ipython3",
   "version": "3.8.10"
  },
  "toc": {
   "base_numbering": 1,
   "nav_menu": {},
   "number_sections": true,
   "sideBar": true,
   "skip_h1_title": false,
   "title_cell": "Table of Contents",
   "title_sidebar": "Contents",
   "toc_cell": false,
   "toc_position": {},
   "toc_section_display": true,
   "toc_window_display": false
  }
 },
 "nbformat": 4,
 "nbformat_minor": 5
}